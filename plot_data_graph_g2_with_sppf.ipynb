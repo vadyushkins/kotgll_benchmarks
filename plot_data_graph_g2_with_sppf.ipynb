{
 "cells": [
  {
   "cell_type": "code",
   "execution_count": 1,
   "metadata": {},
   "outputs": [],
   "source": [
    "import numpy as np\n",
    "import pandas as pd\n",
    "import matplotlib.pyplot as plt\n",
    "import seaborn as sns"
   ]
  },
  {
   "cell_type": "code",
   "execution_count": 2,
   "metadata": {},
   "outputs": [],
   "source": [
    "sns.set_theme(style=\"ticks\", palette=\"pastel\")\n",
    "sns.set(rc={'figure.figsize':(12,10)})"
   ]
  },
  {
   "cell_type": "code",
   "execution_count": 3,
   "metadata": {},
   "outputs": [],
   "source": [
    "graphs = [\n",
    "    \"skos\",\n",
    "    \"generations\",\n",
    "    \"travel\",\n",
    "    \"univ\",\n",
    "    \"atom\",\n",
    "    \"biomedical\",\n",
    "    \"foaf\",\n",
    "    \"people\",\n",
    "    \"funding\",\n",
    "    \"wine\",\n",
    "    \"pizza\",\n",
    "    \"core\",\n",
    "    \"pathways\",\n",
    "    \"enzyme\",\n",
    "    \"eclass\",\n",
    "    \"go_hierarchy\",\n",
    "    \"go\",\n",
    "    # \"taxonomy\",\n",
    "]"
   ]
  },
  {
   "cell_type": "code",
   "execution_count": 4,
   "metadata": {},
   "outputs": [],
   "source": [
    "df_cfg_g2_with_sppf = pd.concat(\n",
    "    [\n",
    "        pd.DataFrame({\n",
    "            \"graph\": graph,\n",
    "            \"time_s\": pd.read_csv(f\"result/{graph}_cfg_g2_with_sppf.csv\", header=None).divide(1e9)[0].to_numpy(),\n",
    "        })\n",
    "        for graph in graphs\n",
    "    ],\n",
    ")\n",
    "df_rsm_g2_with_sppf = pd.concat(\n",
    "    [\n",
    "        pd.DataFrame({\n",
    "            \"graph\": graph,\n",
    "            \"time_s\": pd.read_csv(f\"result/{graph}_rsm_g2_with_sppf.csv\", header=None).divide(1e9)[0].to_numpy(),\n",
    "        })\n",
    "        for graph in graphs\n",
    "    ],\n",
    ")\n",
    "dff = pd.concat(\n",
    "    {\n",
    "        \"cfg\": df_cfg_g2_with_sppf,\n",
    "        \"rsm\": df_rsm_g2_with_sppf,\n",
    "    },\n",
    ").reset_index(level=0).rename(columns={\"level_0\": \"Grammar\"})"
   ]
  },
  {
   "cell_type": "code",
   "execution_count": null,
   "metadata": {},
   "outputs": [],
   "source": [
    "for graph in graphs:\n",
    "    bp = sns.violinplot(\n",
    "        data = dff[(dff.graph == graph)],\n",
    "        x=\"time_s\",\n",
    "        y=\"graph\",\n",
    "        hue=\"Grammar\",\n",
    "        palette=[\"m\", \"g\"],\n",
    "    )\n",
    "    bp.set(xlabel='time(s)', ylabel='')\n",
    "    plt.savefig(f\"pics/{graph}_g2_with_sppf.png\")"
   ]
  }
 ],
 "metadata": {
  "kernelspec": {
   "display_name": "venv",
   "language": "python",
   "name": "python3"
  },
  "language_info": {
   "codemirror_mode": {
    "name": "ipython",
    "version": 3
   },
   "file_extension": ".py",
   "mimetype": "text/x-python",
   "name": "python",
   "nbconvert_exporter": "python",
   "pygments_lexer": "ipython3",
   "version": "3.11.1"
  },
  "orig_nbformat": 4
 },
 "nbformat": 4,
 "nbformat_minor": 2
}
