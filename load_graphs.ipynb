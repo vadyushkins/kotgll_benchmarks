{
 "cells": [
  {
   "cell_type": "code",
   "execution_count": 1,
   "metadata": {},
   "outputs": [
    {
     "data": {
      "text/plain": [
       "'4.0.2'"
      ]
     },
     "execution_count": 1,
     "metadata": {},
     "output_type": "execute_result"
    }
   ],
   "source": [
    "import cfpq_data\n",
    "cfpq_data.__version__"
   ]
  },
  {
   "cell_type": "code",
   "execution_count": 2,
   "metadata": {},
   "outputs": [],
   "source": [
    "graphNames = [\n",
    "    \"skos\",\n",
    "    \"generations\",\n",
    "    \"travel\",\n",
    "    \"univ\",\n",
    "    \"atom\",\n",
    "    \"biomedical\",\n",
    "    \"foaf\",\n",
    "    \"people\",\n",
    "    \"funding\",\n",
    "    \"wine\",\n",
    "    \"pizza\",\n",
    "    \"core\",\n",
    "    \"pathways\",\n",
    "    \"enzyme\",\n",
    "    \"eclass\",\n",
    "    \"go_hierarchy\",\n",
    "    \"go\",\n",
    "    # \"taxonomy\",\n",
    "]"
   ]
  },
  {
   "cell_type": "code",
   "execution_count": null,
   "metadata": {},
   "outputs": [],
   "source": [
    "for graphName in graphNames:\n",
    "    graphPath = cfpq_data.download(graphName)\n",
    "    graph = cfpq_data.graph_from_csv(graphPath)\n",
    "    graph_r = cfpq_data.add_reverse_edges(graph)\n",
    "    cfpq_data.graph_to_csv(graph_r, f\"graphs/{graphName}.csv\")"
   ]
  }
 ],
 "metadata": {
  "kernelspec": {
   "display_name": "venv",
   "language": "python",
   "name": "python3"
  },
  "language_info": {
   "codemirror_mode": {
    "name": "ipython",
    "version": 3
   },
   "file_extension": ".py",
   "mimetype": "text/x-python",
   "name": "python",
   "nbconvert_exporter": "python",
   "pygments_lexer": "ipython3",
   "version": "3.11.1"
  },
  "orig_nbformat": 4
 },
 "nbformat": 4,
 "nbformat_minor": 2
}
