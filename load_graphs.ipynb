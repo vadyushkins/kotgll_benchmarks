{
 "cells": [
  {
   "cell_type": "code",
   "execution_count": 1,
   "metadata": {},
   "outputs": [
    {
     "data": {
      "text/plain": [
       "'4.0.2'"
      ]
     },
     "execution_count": 1,
     "metadata": {},
     "output_type": "execute_result"
    }
   ],
   "source": [
    "import cfpq_data\n",
    "cfpq_data.__version__"
   ]
  },
  {
   "cell_type": "code",
   "execution_count": 2,
   "metadata": {},
   "outputs": [],
   "source": [
    "graphNames = [\n",
    "    \"skos\",\n",
    "    \"generations\",\n",
    "    \"travel\",\n",
    "    \"univ\",\n",
    "    \"atom\",\n",
    "    \"biomedical\",\n",
    "    \"foaf\",\n",
    "    \"people\",\n",
    "    \"funding\",\n",
    "    \"wine\",\n",
    "    \"pizza\",\n",
    "    \"core\",\n",
    "    \"pathways\",\n",
    "    \"enzyme\",\n",
    "    \"eclass\",\n",
    "]"
   ]
  },
  {
   "cell_type": "code",
   "execution_count": 3,
   "metadata": {},
   "outputs": [
    {
     "name": "stderr",
     "output_type": "stream",
     "text": [
      "[2023-04-19 14:50:36]>INFO>Found graph with name='skos'\n",
      "[2023-04-19 14:50:36]>INFO>Load archive graph_archive=PosixPath('/Users/vadyushkins/github/kotgll_data/venv/lib/python3.11/site-packages/cfpq_data/data/graphs/skos.tar.gz')\n",
      "[2023-04-19 14:50:36]>INFO>Unzip graph name='skos' to file graph=PosixPath('/Users/vadyushkins/github/kotgll_data/venv/lib/python3.11/site-packages/cfpq_data/data/graphs/skos/skos.csv')\n",
      "[2023-04-19 14:50:36]>INFO>Remove archive graph_archive=PosixPath('/Users/vadyushkins/github/kotgll_data/venv/lib/python3.11/site-packages/cfpq_data/data/graphs/skos.tar.gz')\n",
      "[2023-04-19 14:50:36]>INFO>Load graph=<networkx.classes.multidigraph.MultiDiGraph object at 0x12254a650> from path=PosixPath('/Users/vadyushkins/github/kotgll_data/venv/lib/python3.11/site-packages/cfpq_data/data/graphs/skos/skos.csv')\n",
      "[2023-04-19 14:50:36]>INFO>Add reverse edges in graph=<networkx.classes.multidigraph.MultiDiGraph object at 0x12254a650> with mapping=None to new_graph=<networkx.classes.multidigraph.MultiDiGraph object at 0x11409c350>\n",
      "[2023-04-19 14:50:36]>INFO>Save graph=<networkx.classes.multidigraph.MultiDiGraph object at 0x11409c350> to dest=PosixPath('/Users/vadyushkins/github/kotgll_data/graphs/skos.csv')\n",
      "[2023-04-19 14:50:36]>INFO>Found graph with name='generations'\n",
      "[2023-04-19 14:50:36]>INFO>Load archive graph_archive=PosixPath('/Users/vadyushkins/github/kotgll_data/venv/lib/python3.11/site-packages/cfpq_data/data/graphs/generations.tar.gz')\n",
      "[2023-04-19 14:50:36]>INFO>Unzip graph name='generations' to file graph=PosixPath('/Users/vadyushkins/github/kotgll_data/venv/lib/python3.11/site-packages/cfpq_data/data/graphs/generations/generations.csv')\n",
      "[2023-04-19 14:50:36]>INFO>Remove archive graph_archive=PosixPath('/Users/vadyushkins/github/kotgll_data/venv/lib/python3.11/site-packages/cfpq_data/data/graphs/generations.tar.gz')\n",
      "[2023-04-19 14:50:36]>INFO>Load graph=<networkx.classes.multidigraph.MultiDiGraph object at 0x114121a50> from path=PosixPath('/Users/vadyushkins/github/kotgll_data/venv/lib/python3.11/site-packages/cfpq_data/data/graphs/generations/generations.csv')\n",
      "[2023-04-19 14:50:36]>INFO>Add reverse edges in graph=<networkx.classes.multidigraph.MultiDiGraph object at 0x114121a50> with mapping=None to new_graph=<networkx.classes.multidigraph.MultiDiGraph object at 0x12254a650>\n",
      "[2023-04-19 14:50:36]>INFO>Save graph=<networkx.classes.multidigraph.MultiDiGraph object at 0x12254a650> to dest=PosixPath('/Users/vadyushkins/github/kotgll_data/graphs/generations.csv')\n",
      "[2023-04-19 14:50:36]>INFO>Found graph with name='travel'\n",
      "[2023-04-19 14:50:37]>INFO>Load archive graph_archive=PosixPath('/Users/vadyushkins/github/kotgll_data/venv/lib/python3.11/site-packages/cfpq_data/data/graphs/travel.tar.gz')\n",
      "[2023-04-19 14:50:37]>INFO>Unzip graph name='travel' to file graph=PosixPath('/Users/vadyushkins/github/kotgll_data/venv/lib/python3.11/site-packages/cfpq_data/data/graphs/travel/travel.csv')\n",
      "[2023-04-19 14:50:37]>INFO>Remove archive graph_archive=PosixPath('/Users/vadyushkins/github/kotgll_data/venv/lib/python3.11/site-packages/cfpq_data/data/graphs/travel.tar.gz')\n",
      "[2023-04-19 14:50:37]>INFO>Load graph=<networkx.classes.multidigraph.MultiDiGraph object at 0x117bb5510> from path=PosixPath('/Users/vadyushkins/github/kotgll_data/venv/lib/python3.11/site-packages/cfpq_data/data/graphs/travel/travel.csv')\n",
      "[2023-04-19 14:50:37]>INFO>Add reverse edges in graph=<networkx.classes.multidigraph.MultiDiGraph object at 0x117bb5510> with mapping=None to new_graph=<networkx.classes.multidigraph.MultiDiGraph object at 0x114121a50>\n",
      "[2023-04-19 14:50:37]>INFO>Save graph=<networkx.classes.multidigraph.MultiDiGraph object at 0x114121a50> to dest=PosixPath('/Users/vadyushkins/github/kotgll_data/graphs/travel.csv')\n",
      "[2023-04-19 14:50:37]>INFO>Found graph with name='univ'\n",
      "[2023-04-19 14:50:37]>INFO>Load archive graph_archive=PosixPath('/Users/vadyushkins/github/kotgll_data/venv/lib/python3.11/site-packages/cfpq_data/data/graphs/univ.tar.gz')\n",
      "[2023-04-19 14:50:37]>INFO>Unzip graph name='univ' to file graph=PosixPath('/Users/vadyushkins/github/kotgll_data/venv/lib/python3.11/site-packages/cfpq_data/data/graphs/univ/univ.csv')\n",
      "[2023-04-19 14:50:37]>INFO>Remove archive graph_archive=PosixPath('/Users/vadyushkins/github/kotgll_data/venv/lib/python3.11/site-packages/cfpq_data/data/graphs/univ.tar.gz')\n",
      "[2023-04-19 14:50:37]>INFO>Load graph=<networkx.classes.multidigraph.MultiDiGraph object at 0x12254a650> from path=PosixPath('/Users/vadyushkins/github/kotgll_data/venv/lib/python3.11/site-packages/cfpq_data/data/graphs/univ/univ.csv')\n",
      "[2023-04-19 14:50:37]>INFO>Add reverse edges in graph=<networkx.classes.multidigraph.MultiDiGraph object at 0x12254a650> with mapping=None to new_graph=<networkx.classes.multidigraph.MultiDiGraph object at 0x117bb5510>\n",
      "[2023-04-19 14:50:37]>INFO>Save graph=<networkx.classes.multidigraph.MultiDiGraph object at 0x117bb5510> to dest=PosixPath('/Users/vadyushkins/github/kotgll_data/graphs/univ.csv')\n",
      "[2023-04-19 14:50:37]>INFO>Found graph with name='atom'\n",
      "[2023-04-19 14:50:37]>INFO>Load archive graph_archive=PosixPath('/Users/vadyushkins/github/kotgll_data/venv/lib/python3.11/site-packages/cfpq_data/data/graphs/atom.tar.gz')\n",
      "[2023-04-19 14:50:37]>INFO>Unzip graph name='atom' to file graph=PosixPath('/Users/vadyushkins/github/kotgll_data/venv/lib/python3.11/site-packages/cfpq_data/data/graphs/atom/atom.csv')\n",
      "[2023-04-19 14:50:37]>INFO>Remove archive graph_archive=PosixPath('/Users/vadyushkins/github/kotgll_data/venv/lib/python3.11/site-packages/cfpq_data/data/graphs/atom.tar.gz')\n",
      "[2023-04-19 14:50:37]>INFO>Load graph=<networkx.classes.multidigraph.MultiDiGraph object at 0x122012c90> from path=PosixPath('/Users/vadyushkins/github/kotgll_data/venv/lib/python3.11/site-packages/cfpq_data/data/graphs/atom/atom.csv')\n",
      "[2023-04-19 14:50:37]>INFO>Add reverse edges in graph=<networkx.classes.multidigraph.MultiDiGraph object at 0x122012c90> with mapping=None to new_graph=<networkx.classes.multidigraph.MultiDiGraph object at 0x122678910>\n",
      "[2023-04-19 14:50:37]>INFO>Save graph=<networkx.classes.multidigraph.MultiDiGraph object at 0x122678910> to dest=PosixPath('/Users/vadyushkins/github/kotgll_data/graphs/atom.csv')\n",
      "[2023-04-19 14:50:37]>INFO>Found graph with name='biomedical'\n",
      "[2023-04-19 14:50:37]>INFO>Load archive graph_archive=PosixPath('/Users/vadyushkins/github/kotgll_data/venv/lib/python3.11/site-packages/cfpq_data/data/graphs/biomedical.tar.gz')\n",
      "[2023-04-19 14:50:37]>INFO>Unzip graph name='biomedical' to file graph=PosixPath('/Users/vadyushkins/github/kotgll_data/venv/lib/python3.11/site-packages/cfpq_data/data/graphs/biomedical/biomedical.csv')\n",
      "[2023-04-19 14:50:37]>INFO>Remove archive graph_archive=PosixPath('/Users/vadyushkins/github/kotgll_data/venv/lib/python3.11/site-packages/cfpq_data/data/graphs/biomedical.tar.gz')\n",
      "[2023-04-19 14:50:37]>INFO>Load graph=<networkx.classes.multidigraph.MultiDiGraph object at 0x10e8f9d50> from path=PosixPath('/Users/vadyushkins/github/kotgll_data/venv/lib/python3.11/site-packages/cfpq_data/data/graphs/biomedical/biomedical.csv')\n",
      "[2023-04-19 14:50:37]>INFO>Add reverse edges in graph=<networkx.classes.multidigraph.MultiDiGraph object at 0x10e8f9d50> with mapping=None to new_graph=<networkx.classes.multidigraph.MultiDiGraph object at 0x122012c90>\n",
      "[2023-04-19 14:50:37]>INFO>Save graph=<networkx.classes.multidigraph.MultiDiGraph object at 0x122012c90> to dest=PosixPath('/Users/vadyushkins/github/kotgll_data/graphs/biomedical.csv')\n",
      "[2023-04-19 14:50:37]>INFO>Found graph with name='foaf'\n",
      "[2023-04-19 14:50:37]>INFO>Load archive graph_archive=PosixPath('/Users/vadyushkins/github/kotgll_data/venv/lib/python3.11/site-packages/cfpq_data/data/graphs/foaf.tar.gz')\n",
      "[2023-04-19 14:50:37]>INFO>Unzip graph name='foaf' to file graph=PosixPath('/Users/vadyushkins/github/kotgll_data/venv/lib/python3.11/site-packages/cfpq_data/data/graphs/foaf/foaf.csv')\n",
      "[2023-04-19 14:50:37]>INFO>Remove archive graph_archive=PosixPath('/Users/vadyushkins/github/kotgll_data/venv/lib/python3.11/site-packages/cfpq_data/data/graphs/foaf.tar.gz')\n",
      "[2023-04-19 14:50:37]>INFO>Load graph=<networkx.classes.multidigraph.MultiDiGraph object at 0x1175cfa90> from path=PosixPath('/Users/vadyushkins/github/kotgll_data/venv/lib/python3.11/site-packages/cfpq_data/data/graphs/foaf/foaf.csv')\n",
      "[2023-04-19 14:50:37]>INFO>Add reverse edges in graph=<networkx.classes.multidigraph.MultiDiGraph object at 0x1175cfa90> with mapping=None to new_graph=<networkx.classes.multidigraph.MultiDiGraph object at 0x10e8f9d50>\n",
      "[2023-04-19 14:50:37]>INFO>Save graph=<networkx.classes.multidigraph.MultiDiGraph object at 0x10e8f9d50> to dest=PosixPath('/Users/vadyushkins/github/kotgll_data/graphs/foaf.csv')\n",
      "[2023-04-19 14:50:37]>INFO>Found graph with name='people'\n",
      "[2023-04-19 14:50:37]>INFO>Load archive graph_archive=PosixPath('/Users/vadyushkins/github/kotgll_data/venv/lib/python3.11/site-packages/cfpq_data/data/graphs/people.tar.gz')\n",
      "[2023-04-19 14:50:37]>INFO>Unzip graph name='people' to file graph=PosixPath('/Users/vadyushkins/github/kotgll_data/venv/lib/python3.11/site-packages/cfpq_data/data/graphs/people/people.csv')\n",
      "[2023-04-19 14:50:37]>INFO>Remove archive graph_archive=PosixPath('/Users/vadyushkins/github/kotgll_data/venv/lib/python3.11/site-packages/cfpq_data/data/graphs/people.tar.gz')\n",
      "[2023-04-19 14:50:37]>INFO>Load graph=<networkx.classes.multidigraph.MultiDiGraph object at 0x1179cff90> from path=PosixPath('/Users/vadyushkins/github/kotgll_data/venv/lib/python3.11/site-packages/cfpq_data/data/graphs/people/people.csv')\n",
      "[2023-04-19 14:50:38]>INFO>Add reverse edges in graph=<networkx.classes.multidigraph.MultiDiGraph object at 0x1179cff90> with mapping=None to new_graph=<networkx.classes.multidigraph.MultiDiGraph object at 0x1175cfa90>\n",
      "[2023-04-19 14:50:38]>INFO>Save graph=<networkx.classes.multidigraph.MultiDiGraph object at 0x1175cfa90> to dest=PosixPath('/Users/vadyushkins/github/kotgll_data/graphs/people.csv')\n",
      "[2023-04-19 14:50:38]>INFO>Found graph with name='funding'\n",
      "[2023-04-19 14:50:38]>INFO>Load archive graph_archive=PosixPath('/Users/vadyushkins/github/kotgll_data/venv/lib/python3.11/site-packages/cfpq_data/data/graphs/funding.tar.gz')\n",
      "[2023-04-19 14:50:38]>INFO>Unzip graph name='funding' to file graph=PosixPath('/Users/vadyushkins/github/kotgll_data/venv/lib/python3.11/site-packages/cfpq_data/data/graphs/funding/funding.csv')\n",
      "[2023-04-19 14:50:38]>INFO>Remove archive graph_archive=PosixPath('/Users/vadyushkins/github/kotgll_data/venv/lib/python3.11/site-packages/cfpq_data/data/graphs/funding.tar.gz')\n",
      "[2023-04-19 14:50:38]>INFO>Load graph=<networkx.classes.multidigraph.MultiDiGraph object at 0x12226b9d0> from path=PosixPath('/Users/vadyushkins/github/kotgll_data/venv/lib/python3.11/site-packages/cfpq_data/data/graphs/funding/funding.csv')\n",
      "[2023-04-19 14:50:38]>INFO>Add reverse edges in graph=<networkx.classes.multidigraph.MultiDiGraph object at 0x12226b9d0> with mapping=None to new_graph=<networkx.classes.multidigraph.MultiDiGraph object at 0x1179cff90>\n",
      "[2023-04-19 14:50:38]>INFO>Save graph=<networkx.classes.multidigraph.MultiDiGraph object at 0x1179cff90> to dest=PosixPath('/Users/vadyushkins/github/kotgll_data/graphs/funding.csv')\n",
      "[2023-04-19 14:50:38]>INFO>Found graph with name='wine'\n",
      "[2023-04-19 14:50:38]>INFO>Load archive graph_archive=PosixPath('/Users/vadyushkins/github/kotgll_data/venv/lib/python3.11/site-packages/cfpq_data/data/graphs/wine.tar.gz')\n",
      "[2023-04-19 14:50:38]>INFO>Unzip graph name='wine' to file graph=PosixPath('/Users/vadyushkins/github/kotgll_data/venv/lib/python3.11/site-packages/cfpq_data/data/graphs/wine/wine.csv')\n",
      "[2023-04-19 14:50:38]>INFO>Remove archive graph_archive=PosixPath('/Users/vadyushkins/github/kotgll_data/venv/lib/python3.11/site-packages/cfpq_data/data/graphs/wine.tar.gz')\n",
      "[2023-04-19 14:50:38]>INFO>Load graph=<networkx.classes.multidigraph.MultiDiGraph object at 0x11409c890> from path=PosixPath('/Users/vadyushkins/github/kotgll_data/venv/lib/python3.11/site-packages/cfpq_data/data/graphs/wine/wine.csv')\n",
      "[2023-04-19 14:50:38]>INFO>Add reverse edges in graph=<networkx.classes.multidigraph.MultiDiGraph object at 0x11409c890> with mapping=None to new_graph=<networkx.classes.multidigraph.MultiDiGraph object at 0x12226b9d0>\n",
      "[2023-04-19 14:50:38]>INFO>Save graph=<networkx.classes.multidigraph.MultiDiGraph object at 0x12226b9d0> to dest=PosixPath('/Users/vadyushkins/github/kotgll_data/graphs/wine.csv')\n",
      "[2023-04-19 14:50:38]>INFO>Found graph with name='pizza'\n",
      "[2023-04-19 14:50:38]>INFO>Load archive graph_archive=PosixPath('/Users/vadyushkins/github/kotgll_data/venv/lib/python3.11/site-packages/cfpq_data/data/graphs/pizza.tar.gz')\n",
      "[2023-04-19 14:50:38]>INFO>Unzip graph name='pizza' to file graph=PosixPath('/Users/vadyushkins/github/kotgll_data/venv/lib/python3.11/site-packages/cfpq_data/data/graphs/pizza/pizza.csv')\n",
      "[2023-04-19 14:50:38]>INFO>Remove archive graph_archive=PosixPath('/Users/vadyushkins/github/kotgll_data/venv/lib/python3.11/site-packages/cfpq_data/data/graphs/pizza.tar.gz')\n",
      "[2023-04-19 14:50:38]>INFO>Load graph=<networkx.classes.multidigraph.MultiDiGraph object at 0x1175cd590> from path=PosixPath('/Users/vadyushkins/github/kotgll_data/venv/lib/python3.11/site-packages/cfpq_data/data/graphs/pizza/pizza.csv')\n",
      "[2023-04-19 14:50:38]>INFO>Add reverse edges in graph=<networkx.classes.multidigraph.MultiDiGraph object at 0x1175cd590> with mapping=None to new_graph=<networkx.classes.multidigraph.MultiDiGraph object at 0x11409c890>\n",
      "[2023-04-19 14:50:38]>INFO>Save graph=<networkx.classes.multidigraph.MultiDiGraph object at 0x11409c890> to dest=PosixPath('/Users/vadyushkins/github/kotgll_data/graphs/pizza.csv')\n",
      "[2023-04-19 14:50:38]>INFO>Found graph with name='core'\n",
      "[2023-04-19 14:50:38]>INFO>Load archive graph_archive=PosixPath('/Users/vadyushkins/github/kotgll_data/venv/lib/python3.11/site-packages/cfpq_data/data/graphs/core.tar.gz')\n",
      "[2023-04-19 14:50:38]>INFO>Unzip graph name='core' to file graph=PosixPath('/Users/vadyushkins/github/kotgll_data/venv/lib/python3.11/site-packages/cfpq_data/data/graphs/core/core.csv')\n",
      "[2023-04-19 14:50:38]>INFO>Remove archive graph_archive=PosixPath('/Users/vadyushkins/github/kotgll_data/venv/lib/python3.11/site-packages/cfpq_data/data/graphs/core.tar.gz')\n",
      "[2023-04-19 14:50:38]>INFO>Load graph=<networkx.classes.multidigraph.MultiDiGraph object at 0x122803ad0> from path=PosixPath('/Users/vadyushkins/github/kotgll_data/venv/lib/python3.11/site-packages/cfpq_data/data/graphs/core/core.csv')\n",
      "[2023-04-19 14:50:38]>INFO>Add reverse edges in graph=<networkx.classes.multidigraph.MultiDiGraph object at 0x122803ad0> with mapping=None to new_graph=<networkx.classes.multidigraph.MultiDiGraph object at 0x1175cd590>\n",
      "[2023-04-19 14:50:38]>INFO>Save graph=<networkx.classes.multidigraph.MultiDiGraph object at 0x1175cd590> to dest=PosixPath('/Users/vadyushkins/github/kotgll_data/graphs/core.csv')\n",
      "[2023-04-19 14:50:38]>INFO>Found graph with name='pathways'\n",
      "[2023-04-19 14:50:39]>INFO>Load archive graph_archive=PosixPath('/Users/vadyushkins/github/kotgll_data/venv/lib/python3.11/site-packages/cfpq_data/data/graphs/pathways.tar.gz')\n",
      "[2023-04-19 14:50:39]>INFO>Unzip graph name='pathways' to file graph=PosixPath('/Users/vadyushkins/github/kotgll_data/venv/lib/python3.11/site-packages/cfpq_data/data/graphs/pathways/pathways.csv')\n",
      "[2023-04-19 14:50:39]>INFO>Remove archive graph_archive=PosixPath('/Users/vadyushkins/github/kotgll_data/venv/lib/python3.11/site-packages/cfpq_data/data/graphs/pathways.tar.gz')\n",
      "[2023-04-19 14:50:39]>INFO>Load graph=<networkx.classes.multidigraph.MultiDiGraph object at 0x12294ebd0> from path=PosixPath('/Users/vadyushkins/github/kotgll_data/venv/lib/python3.11/site-packages/cfpq_data/data/graphs/pathways/pathways.csv')\n",
      "[2023-04-19 14:50:39]>INFO>Add reverse edges in graph=<networkx.classes.multidigraph.MultiDiGraph object at 0x12294ebd0> with mapping=None to new_graph=<networkx.classes.multidigraph.MultiDiGraph object at 0x122803ad0>\n",
      "[2023-04-19 14:50:39]>INFO>Save graph=<networkx.classes.multidigraph.MultiDiGraph object at 0x122803ad0> to dest=PosixPath('/Users/vadyushkins/github/kotgll_data/graphs/pathways.csv')\n",
      "[2023-04-19 14:50:39]>INFO>Found graph with name='enzyme'\n",
      "[2023-04-19 14:50:39]>INFO>Load archive graph_archive=PosixPath('/Users/vadyushkins/github/kotgll_data/venv/lib/python3.11/site-packages/cfpq_data/data/graphs/enzyme.tar.gz')\n",
      "[2023-04-19 14:50:39]>INFO>Unzip graph name='enzyme' to file graph=PosixPath('/Users/vadyushkins/github/kotgll_data/venv/lib/python3.11/site-packages/cfpq_data/data/graphs/enzyme/enzyme.csv')\n",
      "[2023-04-19 14:50:39]>INFO>Remove archive graph_archive=PosixPath('/Users/vadyushkins/github/kotgll_data/venv/lib/python3.11/site-packages/cfpq_data/data/graphs/enzyme.tar.gz')\n",
      "[2023-04-19 14:50:40]>INFO>Load graph=<networkx.classes.multidigraph.MultiDiGraph object at 0x1140bfcd0> from path=PosixPath('/Users/vadyushkins/github/kotgll_data/venv/lib/python3.11/site-packages/cfpq_data/data/graphs/enzyme/enzyme.csv')\n",
      "[2023-04-19 14:50:40]>INFO>Add reverse edges in graph=<networkx.classes.multidigraph.MultiDiGraph object at 0x1140bfcd0> with mapping=None to new_graph=<networkx.classes.multidigraph.MultiDiGraph object at 0x12294ebd0>\n",
      "[2023-04-19 14:50:40]>INFO>Save graph=<networkx.classes.multidigraph.MultiDiGraph object at 0x12294ebd0> to dest=PosixPath('/Users/vadyushkins/github/kotgll_data/graphs/enzyme.csv')\n",
      "[2023-04-19 14:50:40]>INFO>Found graph with name='eclass'\n",
      "[2023-04-19 14:50:41]>INFO>Load archive graph_archive=PosixPath('/Users/vadyushkins/github/kotgll_data/venv/lib/python3.11/site-packages/cfpq_data/data/graphs/eclass.tar.gz')\n",
      "[2023-04-19 14:50:41]>INFO>Unzip graph name='eclass' to file graph=PosixPath('/Users/vadyushkins/github/kotgll_data/venv/lib/python3.11/site-packages/cfpq_data/data/graphs/eclass/eclass.csv')\n",
      "[2023-04-19 14:50:41]>INFO>Remove archive graph_archive=PosixPath('/Users/vadyushkins/github/kotgll_data/venv/lib/python3.11/site-packages/cfpq_data/data/graphs/eclass.tar.gz')\n",
      "[2023-04-19 14:50:43]>INFO>Load graph=<networkx.classes.multidigraph.MultiDiGraph object at 0x1225b3fd0> from path=PosixPath('/Users/vadyushkins/github/kotgll_data/venv/lib/python3.11/site-packages/cfpq_data/data/graphs/eclass/eclass.csv')\n",
      "[2023-04-19 14:50:47]>INFO>Add reverse edges in graph=<networkx.classes.multidigraph.MultiDiGraph object at 0x1225b3fd0> with mapping=None to new_graph=<networkx.classes.multidigraph.MultiDiGraph object at 0x1175cd590>\n",
      "[2023-04-19 14:50:49]>INFO>Save graph=<networkx.classes.multidigraph.MultiDiGraph object at 0x1175cd590> to dest=PosixPath('/Users/vadyushkins/github/kotgll_data/graphs/eclass.csv')\n"
     ]
    }
   ],
   "source": [
    "for graphName in graphNames:\n",
    "    graphPath = cfpq_data.download(graphName)\n",
    "    graph = cfpq_data.graph_from_csv(graphPath)\n",
    "    graph_r = cfpq_data.add_reverse_edges(graph)\n",
    "    cfpq_data.graph_to_csv(graph_r, f\"graphs/{graphName}.csv\")"
   ]
  }
 ],
 "metadata": {
  "kernelspec": {
   "display_name": "venv",
   "language": "python",
   "name": "python3"
  },
  "language_info": {
   "codemirror_mode": {
    "name": "ipython",
    "version": 3
   },
   "file_extension": ".py",
   "mimetype": "text/x-python",
   "name": "python",
   "nbconvert_exporter": "python",
   "pygments_lexer": "ipython3",
   "version": "3.11.1"
  },
  "orig_nbformat": 4
 },
 "nbformat": 4,
 "nbformat_minor": 2
}
